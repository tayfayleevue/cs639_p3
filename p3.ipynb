{
 "cells": [
  {
   "cell_type": "code",
   "execution_count": 1,
   "id": "af0abf09-1e74-4378-89f9-dc7e9da2bc83",
   "metadata": {},
   "outputs": [],
   "source": [
    "import os\n",
    "from pymongo import MongoClient\n",
    "import bson\n",
    "from datetime import datetime\n",
    "import geopandas as gpd\n",
    "import matplotlib.pyplot as plt\n",
    "from shapely.geometry import Point\n",
    "from sqlalchemy import create_engine, text\n",
    "import pandas as pd\n",
    "import os\n",
    "import gc\n",
    "import pickle"
   ]
  },
  {
   "cell_type": "code",
   "execution_count": 2,
   "id": "febb64ce-b177-49dc-8cd6-f1e306ce5bcf",
   "metadata": {},
   "outputs": [],
   "source": [
    "client = MongoClient('mongodb://localhost:27017/')"
   ]
  },
  {
   "cell_type": "code",
   "execution_count": 3,
   "id": "916fe4ab-2efd-430f-81b1-e128ea99c9c0",
   "metadata": {},
   "outputs": [],
   "source": [
    "client.server_info()"
   ]
  },
  {
   "cell_type": "code",
   "execution_count": 4,
   "id": "9030674a-1df6-42e8-beca-3ee27c7de466",
   "metadata": {},
   "outputs": [],
   "source": [
    "!unzip sample_mflix.zip #un note these when turning in "
   ]
  },
  {
   "cell_type": "code",
   "execution_count": 5,
   "id": "0edc6673-47a7-4221-9a96-0bb5a99ac887",
   "metadata": {},
   "outputs": [],
   "source": [
    "db = client.sample_mflix"
   ]
  },
  {
   "cell_type": "code",
   "execution_count": 6,
   "id": "d40a34a3-1962-46c1-bf99-f20bd80077da",
   "metadata": {},
   "outputs": [
    {
     "data": {
      "text/plain": [
       "['users', 'theaters', 'movies', 'comments', 'sessions']"
      ]
     },
     "execution_count": 6,
     "metadata": {},
     "output_type": "execute_result"
    }
   ],
   "source": [
    "# directory where the JSON files are stored\n",
    "json_dir = 'sample_mflix'\n",
    "json_files = [f for f in os.listdir(json_dir) if f.endswith(\".json\")]\n",
    "collections = [f.replace(\".json\", \"\") for f in json_files]\n",
    "collections"
   ]
  },
  {
   "cell_type": "code",
   "execution_count": 7,
   "id": "5ad665eb-e2fd-4f2f-ba86-22a3ca7858f4",
   "metadata": {},
   "outputs": [],
   "source": [
    "for idx, json_file in enumerate(json_files):\n",
    "    with open(os.path.join(json_dir, json_file), 'r') as f:\n",
    "        for line in f:\n",
    "            data = bson.json_util.loads(line.strip())\n",
    "            db[collections[idx]].insert_one(data)\n",
    "        \n",
    "        print(f\"Loaded {json_file} into the '{collections[idx]}' collection.\")"
   ]
  },
  {
   "cell_type": "code",
   "execution_count": 9,
   "id": "d4c64e3d-35e9-40f7-8214-6968d52934d4",
   "metadata": {},
   "outputs": [],
   "source": [
    "#q1\n",
    "q1 = list(db.movies.find().limit(1))\n",
    "with open('answers/q1.pkl', 'wb') as f:\n",
    "   pickle.dump(q1, f)\n",
    "\n",
    "# print(q1)"
   ]
  },
  {
   "cell_type": "code",
   "execution_count": 10,
   "id": "ec1242fa-f162-4dc6-8b2d-18c05157c21e",
   "metadata": {},
   "outputs": [],
   "source": [
    "# ['_id', 'plot', 'genres', 'runtime', 'cast', 'num_mflix_comments', \n",
    "#  'title', 'fullplot', 'countries', 'released', 'directors', 'rated', \n",
    "#  'awards', 'lastupdated', 'year', 'imdb', 'type', 'tomatoes']\n",
    "\n",
    "#these are the column names for movies"
   ]
  },
  {
   "cell_type": "code",
   "execution_count": 11,
   "id": "9c34b4f4-e09b-40b0-9eb8-aea3c7027972",
   "metadata": {},
   "outputs": [],
   "source": [
    "#q2\n",
    "q2 = list(db.movies.find({\"directors\": \"Christopher Nolan\"}))\n",
    "with open('answers/q2.pkl', 'wb') as f:\n",
    "   pickle.dump(q2, f)\n",
    "\n",
    "# print((q2))"
   ]
  },
  {
   "cell_type": "code",
   "execution_count": 12,
   "id": "175e856f-aa36-4cd3-a500-3b8b288d79a2",
   "metadata": {},
   "outputs": [],
   "source": [
    "#q3\n",
    "q3 = list(db.users.find().limit(5))\n",
    "with open('answers/q3.pkl', 'wb') as f:\n",
    "   pickle.dump(q3, f)\n",
    "\n",
    "# print(q3)\n"
   ]
  },
  {
   "cell_type": "code",
   "execution_count": 13,
   "id": "bea4e4dc-f76a-47d6-947d-ae9e00c0cd8d",
   "metadata": {},
   "outputs": [],
   "source": [
    "#q4\n",
    "q4 = list(db.movies.find({\n",
    "    \"imdb.rating\" : {\"$gt\" : 9}\n",
    "}))\n",
    "with open('answers/q4.pkl', 'wb') as f:\n",
    "   pickle.dump(q4, f)\n",
    "\n",
    "# print(q4)"
   ]
  },
  {
   "cell_type": "code",
   "execution_count": 14,
   "id": "f005fa28-7276-4a70-bba5-51f0ada1a0e4",
   "metadata": {},
   "outputs": [],
   "source": [
    "#q5\n",
    "q5 = db.movies.count_documents({})\n",
    "with open('answers/q5.pkl', 'wb') as f:\n",
    "   pickle.dump(q5, f)\n",
    "\n",
    "# print(q5)"
   ]
  },
  {
   "cell_type": "code",
   "execution_count": 15,
   "id": "162823f7-f81b-4fd1-a208-a4e72f1a3596",
   "metadata": {},
   "outputs": [],
   "source": [
    "#q6\n",
    "q2 = db.movies.count_documents({\n",
    "    'year' : {'$gt' : 2000}\n",
    "})\n",
    "with open('answers/q2.pkl', 'wb') as f:\n",
    "   pickle.dump(q2, f)\n",
    "\n",
    "# print(q2)"
   ]
  },
  {
   "cell_type": "code",
   "execution_count": 16,
   "id": "f4aa8246-e118-4f0d-b832-dc068b608ead",
   "metadata": {},
   "outputs": [],
   "source": [
    "#q7\n",
    "q7 = db.movies.count_documents({\n",
    "    'genres' : 'Comedy'\n",
    "})\n",
    "with open('answers/q7.pkl', 'wb') as f:\n",
    "   pickle.dump(q7, f)\n",
    "\n",
    "# print(q7)\n",
    "\n",
    "# cursor = db.inspections.find({\n",
    "#     \"$or\": [\n",
    "#         { \"address.city\": \"MANHTTAN\" },\n",
    "#         { \"address.city\": \"BROOKLYN\" }\n",
    "#     ]\n",
    "# })\n",
    "\n",
    "# ny_la_inspections = list(cursor)\n",
    "# ny_la_inspections"
   ]
  },
  {
   "cell_type": "code",
   "execution_count": 17,
   "id": "adecae0e-323b-4a77-a67a-b1afc6b68c2c",
   "metadata": {},
   "outputs": [],
   "source": [
    "# p = db.comments.find_one()\n",
    "# p"
   ]
  },
  {
   "cell_type": "code",
   "execution_count": 18,
   "id": "a86294e6-c36d-46ae-b282-cae482048a93",
   "metadata": {},
   "outputs": [],
   "source": [
    "#q8\n",
    "q8 = db.comments.count_documents({\n",
    "    'name' : 'Taylor Hill'\n",
    "})\n",
    "with open('answers/q8.pkl', 'wb') as f:\n",
    "   pickle.dump(q8, f)\n",
    "\n",
    "# print(q8)"
   ]
  },
  {
   "cell_type": "code",
   "execution_count": 19,
   "id": "d12be9db-8664-4e99-b1f2-9ec0d13d1bf0",
   "metadata": {},
   "outputs": [],
   "source": [
    "#q9\n",
    "q9 = db.movies.count_documents({\n",
    "    'runtime' : { '$gt' : 120}\n",
    "})\n",
    "with open('answers/q9.pkl', 'wb') as f:\n",
    "   pickle.dump(q9, f)\n",
    "\n",
    "# print(q9)"
   ]
  },
  {
   "cell_type": "code",
   "execution_count": 25,
   "id": "b478417b-82df-4db3-91f9-01931b6bcdb6",
   "metadata": {},
   "outputs": [],
   "source": [
    "#q10\n",
    "q10 = list(db.movies.find(\n",
    "    {\"year\": 2015},    \n",
    "    {\"title\": 1, \"_id\": 0}  \n",
    ").sort(\"title\", 1))     \n",
    "with open('answers/q10.pkl', 'wb') as f:\n",
    "   pickle.dump(q10, f)\n",
    "\n",
    "# print(q10)\n",
    "\n",
    "# inspections_2015 = db.inspections.find({\n",
    "#     \"date\": {\"$regex\": \"2015\"}\n",
    "# }).sort(\"id\", 1)  # 1 for ascending order\n",
    "# list(inspections_2015)"
   ]
  },
  {
   "cell_type": "code",
   "execution_count": 34,
   "id": "b45f7f89-3982-4384-b3da-b973c2696c79",
   "metadata": {},
   "outputs": [],
   "source": [
    "#q11\n",
    "q11 = list(db.comments.find(\n",
    "    {}  \n",
    ").sort(\"date\", -1).limit(5)) \n",
    "with open('answers/q11.pkl', 'wb') as f:\n",
    "   pickle.dump(q11, f)\n",
    "\n",
    "# print(q11)"
   ]
  },
  {
   "cell_type": "code",
   "execution_count": 40,
   "id": "069334a6-28a1-42eb-88c0-e2df87ca7b00",
   "metadata": {},
   "outputs": [],
   "source": [
    "#q12\n",
    "q12 = db.movies.count_documents({ \"$or\" : [{\"genres\": \"Action\"},\n",
    "                               {\"genres\" : \"Adventure\"}]})\n",
    "with open('answers/q12.pkl', 'wb') as f:\n",
    "   pickle.dump(q12, f)\n",
    "\n",
    "# print(q12)"
   ]
  },
  {
   "cell_type": "code",
   "execution_count": 46,
   "id": "d2dcf635-6509-4378-998d-9f8468613b78",
   "metadata": {},
   "outputs": [],
   "source": [
    "#q13\n",
    "q13 = list(db.movies.find({\"imdb.rating\": {\"$gt\" : 9, \"$lt\" : 10}}))\n",
    "with open('answers/q13.pkl', 'wb') as f:\n",
    "   pickle.dump(q13, f)\n",
    "\n",
    "# print(q13)\n",
    "\n",
    "# cursor = db.trips.find({\n",
    "#     \"tripduration\": {\"$gte\": 200, \"$lte\": 4000}, \n",
    "#     \"gender\": 1\n",
    "# })\n",
    "# trips = list(cursor)\n",
    "# trips[:5]"
   ]
  },
  {
   "cell_type": "code",
   "execution_count": 48,
   "id": "473bbc1a-cfab-449a-8339-880dcb10f60c",
   "metadata": {},
   "outputs": [],
   "source": [
    "#q14\n",
    "q14 = db.movies.count_documents({\"directors\": { \"$exists\":True, \"$size\": 3 }})\n",
    "\n",
    "with open('answers/q14.pkl', 'wb') as f:\n",
    "    pickle.dump(q14, f)\n",
    "\n",
    "# print(q14)"
   ]
  },
  {
   "cell_type": "code",
   "execution_count": 54,
   "id": "975678b9-e90c-4849-b98b-ed050c567d11",
   "metadata": {},
   "outputs": [],
   "source": [
    "#q15\n",
    "q15 = db.movies.count_documents({\"directors\":{\"$exists\":True},\"$expr\":{\"$gte\":[{\"$size\": \"$directors\" }, 3]}})\n",
    "with open('answers/q2.pkl', 'wb') as f:\n",
    "   pickle.dump(q2, f)\n",
    "\n",
    "# print(q15)"
   ]
  },
  {
   "cell_type": "code",
   "execution_count": 67,
   "id": "98885fcb-6452-4a81-a5de-cdc495c8e635",
   "metadata": {},
   "outputs": [
    {
     "name": "stdout",
     "output_type": "stream",
     "text": [
      "[{'total': 510}]\n"
     ]
    }
   ],
   "source": [
    "#q16\n",
    "pipeline = [{\"$lookup\": {\"from\": \"movies\",\"localField\": \"movie_id\",\"foreignField\": \"_id\",         \n",
    "            \"as\": \"movie_info\"}},{\"$unwind\": \"$movie_info\"},{\"$match\": {\"movie_info.year\": 2010}},{\"$count\": \"total\"}]\n",
    "q16 = list(db.comments.aggregate(pipeline))\n",
    "with open('answers/16.pkl', 'wb') as f:\n",
    "   pickle.dump(q16, f)\n",
    "\n",
    "print(q16)"
   ]
  },
  {
   "cell_type": "code",
   "execution_count": 74,
   "id": "7e479899-e953-4e2c-a87d-50e828fee2ee",
   "metadata": {},
   "outputs": [
    {
     "ename": "SyntaxError",
     "evalue": "invalid syntax (3585953254.py, line 3)",
     "output_type": "error",
     "traceback": [
      "\u001b[0;36m  Cell \u001b[0;32mIn[74], line 3\u001b[0;36m\u001b[0m\n\u001b[0;31m    \"as\": \"movie_info\"}},{\"$unwind\": \"$movie_info\"},{\"$match\": {\"movie_info.genres\": \"action\"}},{\"$group\": {\"_id\": \"$username\"}},{\"$sort\": \"_id\": 1\u001b[0m\n\u001b[0m                                                                                                                                                ^\u001b[0m\n\u001b[0;31mSyntaxError\u001b[0m\u001b[0;31m:\u001b[0m invalid syntax\n"
     ]
    }
   ],
   "source": [
    "# q17\n",
    "# q17 = db.comments.aggregate([{\"$lookup\": {\"from\": \"movies\",\"localField\": \"movie_id\",\"foreignField\": \"_id\",\n",
    "#             \"as\": \"movie_info\"}},{\"$unwind\": \"$movie_info\"},{\"$match\": {\"movie_info.genres\": \"action\"}},{\"$group\": {\"_id\": \"$username\"}},{\"$sort\": \"_id\": 1\n",
    "#         },{\"$project\": {\"username\": \"$_id\",\"_id\": 0}}])\n",
    "# q17 = [user[\"username\"] for user in unique_users]\n",
    "\n",
    "# with open('answers/q17.pkl', 'wb') as f:\n",
    "#     pickle.dump(q17, f)\n",
    "\n",
    "# # Print the result\n",
    "# print(q17)\n"
   ]
  },
  {
   "cell_type": "code",
   "execution_count": 78,
   "id": "076683d1-3538-4b60-8a2f-6ec4051d50ac",
   "metadata": {},
   "outputs": [],
   "source": [
    "#q18\n",
    "date = datetime(2018,8,13)\n",
    "q18 = list(db.comments.find({\"date\": {'$gte':date}}))\n",
    "with open('answers/q18.pkl', 'wb') as f:\n",
    "   pickle.dump(q18, f)\n",
    "\n",
    "# print(q18)"
   ]
  },
  {
   "cell_type": "code",
   "execution_count": 84,
   "id": "a8eb107d-eb3c-48f8-b7d2-8d59032f5b70",
   "metadata": {},
   "outputs": [],
   "source": [
    "#q19\n",
    "q19 = db.movies.find({\"directors\": \"Steven Spielberg\"},{'_id':1})\n",
    "q19 = [movie['_id'] for movie in q19]\n",
    "q19 = db.comments.count_documents({'movie_id' : {'$in':q19}})\n",
    "with open('answers/q19.pkl', 'wb') as f:\n",
    "   pickle.dump(q19, f)\n",
    "\n",
    "# print(q19)"
   ]
  },
  {
   "cell_type": "code",
   "execution_count": 87,
   "id": "0248ab40-d927-40ed-ad12-735ca9d4e5ff",
   "metadata": {},
   "outputs": [],
   "source": [
    "#q20\n",
    "q20 = list(db.movies.find(\n",
    "    {\"imdb.rating\": {'$gte': 9.0}},{'title': 1, 'released': 1, 'imdb.rating': 1, '_id': 0} \n",
    ").sort(\"released\", -1).limit(10)) \n",
    "with open('answers/q20.pkl', 'wb') as f:\n",
    "   pickle.dump(q20, f)\n",
    "\n",
    "# print(q20)"
   ]
  },
  {
   "cell_type": "code",
   "execution_count": 95,
   "id": "f67a739c-52bc-450d-b01c-3b708b6cbd1e",
   "metadata": {},
   "outputs": [],
   "source": [
    "#q21\n",
    "total = db.movies.count_documents({})\n",
    "movie_comments = db.comments.distinct(\"movie_id\")\n",
    "q21 = total - len(movie_comments)\n",
    "\n",
    "with open('answers/q21.pkl', 'wb') as f:\n",
    "   pickle.dump(q21, f)\n",
    "\n",
    "# print(q21)"
   ]
  },
  {
   "cell_type": "code",
   "execution_count": 99,
   "id": "464399ad-4dfa-4925-bf6c-c4f99a03e3af",
   "metadata": {},
   "outputs": [],
   "source": [
    "#q22\n",
    "q22 = db.movies.count_documents({\"title\": {\"$regex\": \"^The\", \"$options\": \"i\"}})\n",
    "with open('answers/q22.pkl', 'wb') as f:\n",
    "   pickle.dump(q22, f)\n",
    "\n",
    "# print(q22)"
   ]
  },
  {
   "cell_type": "code",
   "execution_count": 102,
   "id": "033cbc5c-5192-4531-ac12-003999a76118",
   "metadata": {},
   "outputs": [
    {
     "name": "stdout",
     "output_type": "stream",
     "text": [
      "[{'average_rating': None}]\n"
     ]
    }
   ],
   "source": [
    "#q23\n",
    "q23 = list(db.movies.aggregate([{\"$match\": {\"genres\": \"Action\"}},{\"$group\": {\n",
    "        \"_id\": None,\"average_rating\": {\"$avg\": \"$imdb.rating\"}}},{\"$project\": {\n",
    "        \"_id\": 0,\"average_rating\": {\"$round\": [\"$avg_rating\", 2]}}}]))\n",
    "with open('answers/q23.pkl', 'wb') as f:\n",
    "   pickle.dump(q23, f)\n",
    "\n",
    "print(q23)"
   ]
  },
  {
   "cell_type": "code",
   "execution_count": null,
   "id": "13ce521f-40df-4f08-99ae-5e8197c53ea3",
   "metadata": {},
   "outputs": [],
   "source": [
    "#q24\n",
    "q2 = list(db.movies.find({\"directors\": \"Christopher Nolan\"}))\n",
    "with open('answers/q2.pkl', 'wb') as f:\n",
    "   pickle.dump(q2, f)\n",
    "\n",
    "# print(len(q2))"
   ]
  },
  {
   "cell_type": "code",
   "execution_count": null,
   "id": "76106461-8a47-4671-aff3-2dc1a7b7938f",
   "metadata": {},
   "outputs": [],
   "source": [
    "#q25\n",
    "q2 = list(db.movies.find({\"directors\": \"Christopher Nolan\"}))\n",
    "with open('answers/q2.pkl', 'wb') as f:\n",
    "   pickle.dump(q2, f)\n",
    "\n",
    "# print(len(q2))"
   ]
  },
  {
   "cell_type": "code",
   "execution_count": null,
   "id": "dc9cde6d-1f66-42bd-aec2-f07a11dc4460",
   "metadata": {},
   "outputs": [],
   "source": [
    "#q26\n",
    "q2 = list(db.movies.find({\"directors\": \"Christopher Nolan\"}))\n",
    "with open('answers/q2.pkl', 'wb') as f:\n",
    "   pickle.dump(q2, f)\n",
    "\n",
    "# print(len(q2))"
   ]
  },
  {
   "cell_type": "code",
   "execution_count": null,
   "id": "990b1e73-776b-44e2-a7a6-6c2551c8c7ad",
   "metadata": {},
   "outputs": [],
   "source": [
    "#q27\n",
    "q2 = list(db.movies.find({\"directors\": \"Christopher Nolan\"}))\n",
    "with open('answers/q2.pkl', 'wb') as f:\n",
    "   pickle.dump(q2, f)\n",
    "\n",
    "# print(len(q2))"
   ]
  },
  {
   "cell_type": "code",
   "execution_count": null,
   "id": "faa105b8-edc0-4920-bd8e-3793f37c9fab",
   "metadata": {},
   "outputs": [],
   "source": [
    "#q28\n",
    "q2 = list(db.movies.find({\"directors\": \"Christopher Nolan\"}))\n",
    "with open('answers/q2.pkl', 'wb') as f:\n",
    "   pickle.dump(q2, f)\n",
    "\n",
    "# print(len(q2))"
   ]
  },
  {
   "cell_type": "code",
   "execution_count": null,
   "id": "2e160542-4874-4ecc-8874-21ff433cfd86",
   "metadata": {},
   "outputs": [],
   "source": [
    "#q29\n",
    "q2 = list(db.movies.find({\"directors\": \"Christopher Nolan\"}))\n",
    "with open('answers/q2.pkl', 'wb') as f:\n",
    "   pickle.dump(q2, f)\n",
    "\n",
    "# print(len(q2))"
   ]
  },
  {
   "cell_type": "code",
   "execution_count": null,
   "id": "aed6e1bb-ee0e-4ff4-8fd0-b4403c6e7b94",
   "metadata": {},
   "outputs": [],
   "source": [
    "#q30\n",
    "q2 = list(db.movies.find({\"directors\": \"Christopher Nolan\"}))\n",
    "with open('answers/q2.pkl', 'wb') as f:\n",
    "   pickle.dump(q2, f)\n",
    "\n",
    "# print(len(q2))"
   ]
  },
  {
   "cell_type": "code",
   "execution_count": null,
   "id": "01fc19c0-5d84-4d18-84ca-0c6d845a8f81",
   "metadata": {},
   "outputs": [],
   "source": [
    "#q31\n",
    "q2 = list(db.movies.find({\"directors\": \"Christopher Nolan\"}))\n",
    "with open('answers/q2.pkl', 'wb') as f:\n",
    "   pickle.dump(q2, f)\n",
    "\n",
    "# print(len(q2))"
   ]
  },
  {
   "cell_type": "code",
   "execution_count": null,
   "id": "fd756956-f331-4212-af4b-eef5e32e277d",
   "metadata": {},
   "outputs": [],
   "source": [
    "#q32\n",
    "q2 = list(db.movies.find({\"directors\": \"Christopher Nolan\"}))\n",
    "with open('answers/q2.pkl', 'wb') as f:\n",
    "   pickle.dump(q2, f)\n",
    "\n",
    "# print(len(q2))"
   ]
  },
  {
   "cell_type": "code",
   "execution_count": null,
   "id": "f2771fce-a4b4-4900-9556-b8ee4793727a",
   "metadata": {},
   "outputs": [],
   "source": [
    "#q33\n",
    "q2 = list(db.movies.find({\"directors\": \"Christopher Nolan\"}))\n",
    "with open('answers/q2.pkl', 'wb') as f:\n",
    "   pickle.dump(q2, f)\n",
    "\n",
    "# print(len(q2))"
   ]
  },
  {
   "cell_type": "code",
   "execution_count": null,
   "id": "8fabc33c-26f3-421a-8c8f-631094a1767c",
   "metadata": {},
   "outputs": [],
   "source": [
    "#q34\n",
    "q2 = list(db.movies.find({\"directors\": \"Christopher Nolan\"}))\n",
    "with open('answers/q2.pkl', 'wb') as f:\n",
    "   pickle.dump(q2, f)\n",
    "\n",
    "# print(len(q2))"
   ]
  }
 ],
 "metadata": {
  "kernelspec": {
   "display_name": "Python 3 (ipykernel)",
   "language": "python",
   "name": "python3"
  },
  "language_info": {
   "codemirror_mode": {
    "name": "ipython",
    "version": 3
   },
   "file_extension": ".py",
   "mimetype": "text/x-python",
   "name": "python",
   "nbconvert_exporter": "python",
   "pygments_lexer": "ipython3",
   "version": "3.10.12"
  }
 },
 "nbformat": 4,
 "nbformat_minor": 5
}
